{
 "cells": [
  {
   "cell_type": "code",
   "execution_count": null,
   "metadata": {},
   "outputs": [],
   "source": [
    "# 1.write a program that take a number and checks its even or odd\n",
    "x=int(input(\"enter the number\"))\n",
    "if(x%2==0):\n",
    "    print(\"the number is even\")\n",
    "else:\n",
    "    print(\"the number is odd\")"
   ]
  },
  {
   "cell_type": "code",
   "execution_count": null,
   "metadata": {},
   "outputs": [],
   "source": [
    "# enter three number and print large number\n",
    "x=int(input(\"enter the 1st number\"))\n",
    "y=int(input(\"enter the 2nd number\"))\n",
    "z=int(input(\"enter the 3rd number\"))\n",
    "if((x>y)and(x>z)):\n",
    "    print(\"the number x is greter\"+str(x))\n",
    "elif((y>x)and(y>z)):\n",
    "    print(\"y is greter\"+str(y))\n",
    "else:\n",
    "    print(\"z is greter\"+str(z))"
   ]
  },
  {
   "cell_type": "code",
   "execution_count": null,
   "metadata": {},
   "outputs": [],
   "source": [
    "# enter 3 nuber and print sum of only non duplicate number\n",
    "x=int(input(\"enter the number\"))\n",
    "y=int(input(\"enter the number\"))\n",
    "z=int(input(\"enter the number\"))\n",
    "if(x==y and y==z):\n",
    "    print(\"their all number are equals\")\n",
    "elif((x==y)and(y!=z)):\n",
    "    sum=z\n",
    "    print(sum)\n",
    "elif((x==z)and (z!=y)):\n",
    "    sum=y\n",
    "    print(sum)\n",
    "elif((y==z)and(y!=x)):\n",
    "    sum=x\n",
    "    print(sum)\n",
    "else:\n",
    "    sum=x+y+z\n",
    "    print(sum)"
   ]
  },
  {
   "cell_type": "code",
   "execution_count": null,
   "metadata": {},
   "outputs": [],
   "source": [
    "#divisibility of a nmber with anather number\n",
    "x=int(input(\"enter the number\"))\n",
    "y=int(input(\"enter the number\"))\n",
    "if(x%y==0):\n",
    "    print(\"it is divisible\")\n",
    "else:\n",
    "    print(\"x cann't divisible by y\")"
   ]
  },
  {
   "cell_type": "code",
   "execution_count": null,
   "metadata": {},
   "outputs": [],
   "source": [
    "# wap to measure the area and parameter of a circule\n",
    "r=int(input(\"enter the radius\"))\n",
    "area=(3.14*(r*r))\n",
    "print(\"area is\"+str(area))\n",
    "perimeter=(2*3.14*r)\n",
    "print(\"perimetr is\"+str(perimeter))"
   ]
  },
  {
   "cell_type": "code",
   "execution_count": null,
   "metadata": {},
   "outputs": [],
   "source": []
  },
  {
   "cell_type": "code",
   "execution_count": null,
   "metadata": {},
   "outputs": [],
   "source": [
    "# check operator\n",
    "a=int(input(\"enter a number\"))\n",
    "b=int(input(\"enter  2nd number\"))\n",
    "print(\"enter the operater\")\n",
    "opr=input(\"+,-,*,/,//,%\")\n",
    "ans=0\n",
    "if(opr==\"+\"):\n",
    "    ans=a+b\n",
    "    print(ans)\n",
    "elif(opr==\"-\"):\n",
    "    ans=a-b\n",
    "    print(ans)\n",
    "elif(opr==\"*\"):\n",
    "    ans=a*b\n",
    "    print(ans)\n",
    "elif(opr==\"/\"):\n",
    "    ans=a/b\n",
    "    print(ans)\n",
    "elif(opr==\"//\"):\n",
    "    ans=a//b\n",
    "    print(ans)\n",
    "else:\n",
    "    ans=a%b\n",
    "    print(ans)\n",
    "    "
   ]
  },
  {
   "cell_type": "code",
   "execution_count": null,
   "metadata": {},
   "outputs": [],
   "source": []
  }
 ],
 "metadata": {
  "kernelspec": {
   "display_name": "Python 3",
   "language": "python",
   "name": "python3"
  },
  "language_info": {
   "codemirror_mode": {
    "name": "ipython",
    "version": 3
   },
   "file_extension": ".py",
   "mimetype": "text/x-python",
   "name": "python",
   "nbconvert_exporter": "python",
   "pygments_lexer": "ipython3",
   "version": "3.7.4"
  }
 },
 "nbformat": 4,
 "nbformat_minor": 2
}
